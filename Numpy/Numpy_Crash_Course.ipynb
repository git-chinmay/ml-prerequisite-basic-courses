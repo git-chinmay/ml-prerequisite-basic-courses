{
 "cells": [
  {
   "cell_type": "markdown",
   "id": "8bc8ca52",
   "metadata": {},
   "source": [
    "## Numpy Tutorial"
   ]
  },
  {
   "cell_type": "code",
   "execution_count": 2,
   "id": "7cf69a14",
   "metadata": {},
   "outputs": [],
   "source": [
    "import numpy as np"
   ]
  },
  {
   "cell_type": "markdown",
   "id": "b0648716",
   "metadata": {},
   "source": [
    "### Array vs List"
   ]
  },
  {
   "cell_type": "code",
   "execution_count": 3,
   "id": "5e4aadef",
   "metadata": {},
   "outputs": [],
   "source": [
    "L = [1,2,3]\n",
    "A = np.array([1,2,3])"
   ]
  },
  {
   "cell_type": "code",
   "execution_count": 4,
   "id": "a9bb588b",
   "metadata": {},
   "outputs": [],
   "source": [
    "L.append(4)"
   ]
  },
  {
   "cell_type": "code",
   "execution_count": 5,
   "id": "69123087",
   "metadata": {},
   "outputs": [
    {
     "ename": "AttributeError",
     "evalue": "'numpy.ndarray' object has no attribute 'append'",
     "output_type": "error",
     "traceback": [
      "\u001b[1;31m---------------------------------------------------------------------------\u001b[0m",
      "\u001b[1;31mAttributeError\u001b[0m                            Traceback (most recent call last)",
      "\u001b[1;32m~\\AppData\\Local\\Temp/ipykernel_1696/1332050475.py\u001b[0m in \u001b[0;36m<module>\u001b[1;34m\u001b[0m\n\u001b[1;32m----> 1\u001b[1;33m \u001b[0mA\u001b[0m\u001b[1;33m.\u001b[0m\u001b[0mappend\u001b[0m\u001b[1;33m(\u001b[0m\u001b[1;36m4\u001b[0m\u001b[1;33m)\u001b[0m\u001b[1;33m\u001b[0m\u001b[1;33m\u001b[0m\u001b[0m\n\u001b[0m",
      "\u001b[1;31mAttributeError\u001b[0m: 'numpy.ndarray' object has no attribute 'append'"
     ]
    }
   ],
   "source": [
    "A.append(4)"
   ]
  },
  {
   "cell_type": "markdown",
   "id": "60648811",
   "metadata": {},
   "source": [
    "#### In numpy we can append like list bcz of memory allocation. "
   ]
  },
  {
   "cell_type": "code",
   "execution_count": null,
   "id": "e766a347",
   "metadata": {},
   "outputs": [],
   "source": [
    "L + [5]"
   ]
  },
  {
   "cell_type": "code",
   "execution_count": null,
   "id": "204d5474",
   "metadata": {},
   "outputs": [],
   "source": [
    "A + np.array([4])"
   ]
  },
  {
   "cell_type": "code",
   "execution_count": null,
   "id": "c77d0b62",
   "metadata": {},
   "outputs": [],
   "source": [
    "# Looks like in numpy the value 4 is get added to each element insted it get appended. This process called\n",
    "#Braodcasting\n",
    "# Another thing to remember is that Numpy is mathetical opearation hence the + sign it understand as \n",
    "# addition opeartion not concatenation"
   ]
  },
  {
   "cell_type": "code",
   "execution_count": null,
   "id": "8e90b00b",
   "metadata": {},
   "outputs": [],
   "source": [
    "A + np.array([4,5,6]) #Element wise addition not Braodcasting of single value"
   ]
  },
  {
   "cell_type": "code",
   "execution_count": null,
   "id": "7616b55c",
   "metadata": {},
   "outputs": [],
   "source": [
    "A + np.array([4,5]) #The above failure is expected as sum needs the dimension to be same size"
   ]
  },
  {
   "cell_type": "code",
   "execution_count": null,
   "id": "74f49af9",
   "metadata": {},
   "outputs": [],
   "source": [
    "2 * A"
   ]
  },
  {
   "cell_type": "code",
   "execution_count": null,
   "id": "026b8621",
   "metadata": {},
   "outputs": [],
   "source": [
    "2 * L"
   ]
  },
  {
   "cell_type": "code",
   "execution_count": null,
   "id": "546716b6",
   "metadata": {},
   "outputs": [],
   "source": [
    "L + L"
   ]
  },
  {
   "cell_type": "code",
   "execution_count": null,
   "id": "65cb1a65",
   "metadata": {},
   "outputs": [],
   "source": [
    "# To square an array\n",
    "#List\n",
    "L**2"
   ]
  },
  {
   "cell_type": "code",
   "execution_count": null,
   "id": "c0b6fa22",
   "metadata": {},
   "outputs": [],
   "source": [
    "L2 = []\n",
    "for i in L:\n",
    "    L2.append(i**2)\n",
    "L2"
   ]
  },
  {
   "cell_type": "code",
   "execution_count": null,
   "id": "375e22e4",
   "metadata": {},
   "outputs": [],
   "source": [
    "#Its super easy in Numpy\n",
    "A**2"
   ]
  },
  {
   "cell_type": "code",
   "execution_count": null,
   "id": "44c40360",
   "metadata": {},
   "outputs": [],
   "source": [
    "#The mathematical function you apply on an numpy array always perform element wise"
   ]
  },
  {
   "cell_type": "code",
   "execution_count": null,
   "id": "1955e6ef",
   "metadata": {},
   "outputs": [],
   "source": [
    "print(np.log(A))\n",
    "print(np.sqrt(A))\n",
    "print(np.exp(A))\n",
    "print(np.tanh(A)) #Hyperbolic Tangent"
   ]
  },
  {
   "cell_type": "markdown",
   "id": "cfd7f31d",
   "metadata": {},
   "source": [
    "#### Note: A list look like an array but its more like a data struture while Numpy is more to math."
   ]
  },
  {
   "cell_type": "markdown",
   "id": "4f5b486c",
   "metadata": {},
   "source": [
    "### Dot Product   \n",
    "<img src=\"https://latex.codecogs.com/svg.image?a.b&space;=&space;a^{T}b=\\sum_{d=1}^{D}a_{d}b_{d}\" title=\"a.b = a^{T}b=\\sum_{d=1}^{D}a_{d}b_{d}\" />"
   ]
  },
  {
   "cell_type": "code",
   "execution_count": null,
   "id": "d7b2891a",
   "metadata": {},
   "outputs": [],
   "source": [
    "a = np.array([1,2])\n",
    "b = np.array([3,4])"
   ]
  },
  {
   "cell_type": "code",
   "execution_count": null,
   "id": "aa294b33",
   "metadata": {},
   "outputs": [],
   "source": [
    "np.dot(a,b)"
   ]
  },
  {
   "cell_type": "code",
   "execution_count": null,
   "id": "5a811f7a",
   "metadata": {},
   "outputs": [],
   "source": [
    "a*b"
   ]
  },
  {
   "cell_type": "code",
   "execution_count": null,
   "id": "346ac958",
   "metadata": {},
   "outputs": [],
   "source": [
    "c = np.array([1,2,3])\n",
    "a*c #Dimention needs to be same in case of multiplication as it is element wise opn"
   ]
  },
  {
   "cell_type": "code",
   "execution_count": null,
   "id": "e57dc2b4",
   "metadata": {},
   "outputs": [],
   "source": [
    "# Dot product is sum of element wise opn \n",
    "np.sum(a*b)"
   ]
  },
  {
   "cell_type": "code",
   "execution_count": null,
   "id": "fe117b38",
   "metadata": {},
   "outputs": [],
   "source": [
    "a.dot(b)"
   ]
  },
  {
   "cell_type": "code",
   "execution_count": null,
   "id": "b5a54962",
   "metadata": {},
   "outputs": [],
   "source": [
    "#Newer version of Numpy we can use @ symbol for dot opn\n",
    "a @ b"
   ]
  },
  {
   "cell_type": "markdown",
   "id": "652cdaae",
   "metadata": {},
   "source": [
    "In Linear algebra we can also right the dot product like below\n",
    "\n",
    "\n",
    "<img src=\"https://latex.codecogs.com/svg.image?a.b&space;=&space;a^{T}b&space;=&space;\\left\\|&space;a\\right\\|\\left\\|&space;b\\right\\|&space;cos\\theta&space;_{ab}\" title=\"a.b = a^{T}b = \\left\\| a\\right\\|\\left\\| b\\right\\| cos\\theta _{ab}\" />\n",
    "\n",
    "where\n",
    "\n",
    "<img src=\"https://latex.codecogs.com/svg.image?\\left\\|&space;a\\right\\|&space;=&space;\\sqrt{\\sum_{d=1}^{D}}a{_{d}}^{2}\" title=\"\\left\\| a\\right\\| = \\sqrt{\\sum_{d=1}^{D}}a{_{d}}^{2}\" />"
   ]
  },
  {
   "cell_type": "code",
   "execution_count": null,
   "id": "04004ada",
   "metadata": {},
   "outputs": [],
   "source": [
    "a = np.array([1,2,3])\n",
    "magnitude_a = np.sqrt(np.sum(np.square(a)))\n",
    "magnitude_a"
   ]
  },
  {
   "cell_type": "code",
   "execution_count": null,
   "id": "29414095",
   "metadata": {},
   "outputs": [],
   "source": [
    "magnitude_a = np.sqrt(np.sum(a*a))\n",
    "magnitude_a"
   ]
  },
  {
   "cell_type": "code",
   "execution_count": null,
   "id": "f890654d",
   "metadata": {},
   "outputs": [],
   "source": [
    "# Numpy already has a function for it\n",
    "np.linalg.norm(a)"
   ]
  },
  {
   "cell_type": "code",
   "execution_count": null,
   "id": "8574620c",
   "metadata": {},
   "outputs": [],
   "source": [
    "a = np.array([1,2])\n",
    "b = np.array([3,4])\n",
    "magnitude_a = np.linalg.norm(a)\n",
    "magnitude_b = np.linalg.norm(b)"
   ]
  },
  {
   "cell_type": "code",
   "execution_count": null,
   "id": "01a08998",
   "metadata": {},
   "outputs": [],
   "source": [
    "#As we know the magnitude of the vector we can find the cosine angle of vectors with dot product\n",
    "cosangle = np.dot(a,b)/(magnitude_a * magnitude_b)\n",
    "cosangle"
   ]
  },
  {
   "cell_type": "code",
   "execution_count": null,
   "id": "03c97659",
   "metadata": {},
   "outputs": [],
   "source": [
    "#To get the angle between vectors we can do arc cos\n",
    "angle = np.arccos(cosangle)\n",
    "angle #This angle is in randinace"
   ]
  },
  {
   "cell_type": "code",
   "execution_count": null,
   "id": "d94feeb2",
   "metadata": {},
   "outputs": [],
   "source": [
    "# SO there is a 0.17 radiance angle difference betwen vector a and b"
   ]
  },
  {
   "cell_type": "markdown",
   "id": "ef13d2ce",
   "metadata": {},
   "source": [
    "### Matrices"
   ]
  },
  {
   "cell_type": "code",
   "execution_count": null,
   "id": "2f77e98d",
   "metadata": {},
   "outputs": [],
   "source": [
    "# There is bydefault numpy.matrix function but you should avoid using it\n"
   ]
  },
  {
   "cell_type": "code",
   "execution_count": null,
   "id": "4be01c29",
   "metadata": {},
   "outputs": [],
   "source": [
    "# Matrix = List of Lists\n",
    "L = [[1,2], [3,4]]\n",
    "L"
   ]
  },
  {
   "cell_type": "code",
   "execution_count": null,
   "id": "df6c0a81",
   "metadata": {},
   "outputs": [],
   "source": [
    "row1 = L[0]\n",
    "row1"
   ]
  },
  {
   "cell_type": "code",
   "execution_count": null,
   "id": "7f2381e0",
   "metadata": {},
   "outputs": [],
   "source": [
    "row2 = L[1]\n",
    "row2"
   ]
  },
  {
   "cell_type": "code",
   "execution_count": null,
   "id": "0316a92b",
   "metadata": {},
   "outputs": [],
   "source": [
    "#Numpy Matrix\n",
    "A = np.array([[1,2],[3,4]])\n",
    "A"
   ]
  },
  {
   "cell_type": "code",
   "execution_count": null,
   "id": "cd072dd4",
   "metadata": {},
   "outputs": [],
   "source": [
    "# Accessing rows of numpy matrix\n",
    "A[0], A[1]"
   ]
  },
  {
   "cell_type": "code",
   "execution_count": null,
   "id": "7241b716",
   "metadata": {},
   "outputs": [],
   "source": [
    "A[0][1] , A[0,1]"
   ]
  },
  {
   "cell_type": "code",
   "execution_count": null,
   "id": "77a8eb8f",
   "metadata": {},
   "outputs": [],
   "source": [
    "# Accessing columns of numpy matrix\n",
    "A[:,0] # Accesses the values of column 0"
   ]
  },
  {
   "cell_type": "code",
   "execution_count": null,
   "id": "b535b510",
   "metadata": {},
   "outputs": [],
   "source": [
    "A[:,1]"
   ]
  },
  {
   "cell_type": "code",
   "execution_count": null,
   "id": "38c37f10",
   "metadata": {},
   "outputs": [],
   "source": [
    "# Transpose\n",
    "A.T"
   ]
  },
  {
   "cell_type": "code",
   "execution_count": null,
   "id": "e35ef1d4",
   "metadata": {},
   "outputs": [],
   "source": [
    "#Applying a function to Matrix\n",
    "np.exp(A)"
   ]
  },
  {
   "cell_type": "code",
   "execution_count": null,
   "id": "f902c0dd",
   "metadata": {},
   "outputs": [],
   "source": [
    "#Applying it to the list L. The numpy knows L is Listtype but it always returns a numpy array not list\n",
    "np.exp(L)"
   ]
  },
  {
   "cell_type": "code",
   "execution_count": null,
   "id": "a8dd7291",
   "metadata": {},
   "outputs": [],
   "source": [
    "# Lets create a 2X3 matrix\n",
    "B = np.array([[1,2,3],[4,5,6]])\n",
    "B"
   ]
  },
  {
   "cell_type": "code",
   "execution_count": null,
   "id": "c163dd79",
   "metadata": {},
   "outputs": [],
   "source": [
    "A"
   ]
  },
  {
   "cell_type": "code",
   "execution_count": null,
   "id": "9206cf6e",
   "metadata": {},
   "outputs": [],
   "source": [
    "#Matric multiplication means A.B\n",
    "np.dot(A,B)"
   ]
  },
  {
   "cell_type": "code",
   "execution_count": null,
   "id": "12305e18",
   "metadata": {},
   "outputs": [],
   "source": [
    "# We cant do A*B as it will perform element wise opn and it will fail due to dimenstion mismatch"
   ]
  },
  {
   "cell_type": "code",
   "execution_count": null,
   "id": "333eb153",
   "metadata": {},
   "outputs": [],
   "source": [
    "print(f\"A dimention: {A.ndim}\")\n",
    "print(f\"B dimention: {B.ndim}\")\n",
    "print(f\"A shape: {A.shape}\")\n",
    "print(f\"B shape: {B.shape}\")"
   ]
  },
  {
   "cell_type": "code",
   "execution_count": null,
   "id": "46a0f4a2",
   "metadata": {},
   "outputs": [],
   "source": [
    "#We cant perform A.Transpose(B) due to shape mismatch\n",
    "np.dot(A, B.T)"
   ]
  },
  {
   "cell_type": "code",
   "execution_count": null,
   "id": "b8c9b2f5",
   "metadata": {},
   "outputs": [],
   "source": [
    "# Inverse\n",
    "np.linalg.inv(A)"
   ]
  },
  {
   "cell_type": "code",
   "execution_count": null,
   "id": "ebf9073e",
   "metadata": {},
   "outputs": [],
   "source": [
    "# Determitant\n",
    "np.linalg.det(A)"
   ]
  },
  {
   "cell_type": "code",
   "execution_count": null,
   "id": "792d67f6",
   "metadata": {},
   "outputs": [],
   "source": [
    "np.linalg.norm(A)"
   ]
  },
  {
   "cell_type": "code",
   "execution_count": null,
   "id": "695e2e0f",
   "metadata": {},
   "outputs": [],
   "source": [
    "#To cross check inverse is correct multiply the inverse result with original matrix and we should get indentity\n",
    "np.dot(np.linalg.inv(A),A)"
   ]
  },
  {
   "cell_type": "code",
   "execution_count": null,
   "id": "c424d83d",
   "metadata": {},
   "outputs": [],
   "source": [
    "#1.11022302e-16 is 0 \n",
    "# Computers usually dont produce accurate inverse thats why we are seeing values with e\n",
    "# So above matrix is actually like below\n",
    "np.eye(2)"
   ]
  },
  {
   "cell_type": "markdown",
   "id": "cd1d48ac",
   "metadata": {},
   "source": [
    "The trace of a square matrix is given by \n",
    "\n",
    "<img src=\"https://latex.codecogs.com/svg.image?\\sum_{i=1}^{n}a_{ii}\" title=\"\\sum_{i=1}^{n}a_{ii}\" />\n",
    "\n",
    "where i = row count"
   ]
  },
  {
   "cell_type": "code",
   "execution_count": null,
   "id": "ecf342a8",
   "metadata": {},
   "outputs": [],
   "source": [
    "# Matrxi trace\n",
    "# Trace of A = A[0,0] + A[1,1] = 1 + 4 = 5\n",
    "np.trace(A), np.trace(B)"
   ]
  },
  {
   "cell_type": "code",
   "execution_count": null,
   "id": "3cd56412",
   "metadata": {},
   "outputs": [],
   "source": [
    "# diag method is overloaded meanse if we pass a vector we will get a Matrix and vice versa\n",
    "np.diag([2,3])"
   ]
  },
  {
   "cell_type": "code",
   "execution_count": null,
   "id": "333c09bf",
   "metadata": {},
   "outputs": [],
   "source": [
    "np.diag(A)"
   ]
  },
  {
   "cell_type": "markdown",
   "id": "ae246d18",
   "metadata": {},
   "source": [
    "### Eigen Vectors\n",
    "<img src=\"https://latex.codecogs.com/svg.image?A&space;.&space;\\underset{v}{\\rightarrow}&space;=&space;\\underset{v}{\\rightarrow}&space;.&space;\\lambda&space;\" title=\"A . \\underset{v}{\\rightarrow} = \\underset{v}{\\rightarrow} . \\lambda \" />\n",
    "\n",
    "A = Is a Matrix\n",
    "\n",
    "v = eigen vector\n",
    "\n",
    "Lambda = Eigen value"
   ]
  },
  {
   "cell_type": "code",
   "execution_count": null,
   "id": "44603703",
   "metadata": {},
   "outputs": [],
   "source": [
    "# Eigen values\n",
    "# It returns the eigen decomposition where 1st array is eigen value\n",
    "# 2nd value is eigen vector in yerms of matrix\n",
    "np.linalg.eig(A)"
   ]
  },
  {
   "cell_type": "code",
   "execution_count": null,
   "id": "44dcec92",
   "metadata": {},
   "outputs": [],
   "source": [
    "# It retuns the \n",
    "lam , v = np.linalg.eig(A)\n",
    "print(\"lambda\", lam)\n",
    "print(\"eigen vector\", v)"
   ]
  },
  {
   "cell_type": "code",
   "execution_count": null,
   "id": "8803af80",
   "metadata": {},
   "outputs": [],
   "source": [
    "# The multiplication of 1st eigen value with 1st eigen vector should equal to\n",
    "# multiplication of 1st eigen vector with Matrix A\n",
    "print(\"1st lambda\", lam[0])\n",
    "print(\"1st column of eigen vector\",v[:,0])"
   ]
  },
  {
   "cell_type": "code",
   "execution_count": null,
   "id": "f2f81315",
   "metadata": {},
   "outputs": [],
   "source": [
    "#mult1 = lam[0] * v[:,0]\n",
    "mult2 = A @ v[:,0] #Dot operation \n",
    "print(mult1)\n",
    "print(mult2)"
   ]
  },
  {
   "cell_type": "code",
   "execution_count": null,
   "id": "01babe95",
   "metadata": {},
   "outputs": [],
   "source": [
    "mult1 == mult2"
   ]
  },
  {
   "cell_type": "code",
   "execution_count": null,
   "id": "de7ea1fd",
   "metadata": {},
   "outputs": [],
   "source": [
    "# Although both values LOOKS similar but we are getting false because computer is storing either 32 or 64 bit of calcution\n",
    "# and its rounding off if it crossing that value. Hence although the first few digit looks same may be last digits\n",
    "# are different."
   ]
  },
  {
   "cell_type": "markdown",
   "id": "4445e891",
   "metadata": {},
   "source": [
    "### Generating Data"
   ]
  },
  {
   "cell_type": "code",
   "execution_count": 6,
   "id": "77752166",
   "metadata": {},
   "outputs": [
    {
     "data": {
      "text/plain": [
       "0.061020360325180656"
      ]
     },
     "execution_count": 6,
     "metadata": {},
     "output_type": "execute_result"
    }
   ],
   "source": [
    "# Uniform distribution\n",
    "# Values beyween 0 and 1\n",
    "np.random.random()"
   ]
  },
  {
   "cell_type": "code",
   "execution_count": 7,
   "id": "fb483cd5",
   "metadata": {},
   "outputs": [
    {
     "data": {
      "text/plain": [
       "array([0.71232738, 0.01715328, 0.38084776, 0.35143981, 0.33609579,\n",
       "       0.06219498, 0.74281218, 0.65510263, 0.02568153, 0.1289177 ])"
      ]
     },
     "execution_count": 7,
     "metadata": {},
     "output_type": "execute_result"
    }
   ],
   "source": [
    "np.random.random(10)"
   ]
  },
  {
   "cell_type": "code",
   "execution_count": 8,
   "id": "54a52b82",
   "metadata": {},
   "outputs": [
    {
     "data": {
      "text/plain": [
       "array([[0.7461471 , 0.2531106 , 0.83294277],\n",
       "       [0.88772207, 0.60253205, 0.57863833]])"
      ]
     },
     "execution_count": 8,
     "metadata": {},
     "output_type": "execute_result"
    }
   ],
   "source": [
    "np.random.random((2,3))"
   ]
  },
  {
   "cell_type": "code",
   "execution_count": 9,
   "id": "fbf2d967",
   "metadata": {},
   "outputs": [],
   "source": [
    "# Standard Normal distribution"
   ]
  },
  {
   "cell_type": "code",
   "execution_count": 10,
   "id": "27722352",
   "metadata": {},
   "outputs": [
    {
     "data": {
      "text/plain": [
       "0.11092902750936211"
      ]
     },
     "execution_count": 10,
     "metadata": {},
     "output_type": "execute_result"
    }
   ],
   "source": [
    "np.random.randn()"
   ]
  },
  {
   "cell_type": "code",
   "execution_count": 11,
   "id": "97b8dd01",
   "metadata": {},
   "outputs": [
    {
     "data": {
      "text/plain": [
       "array([-1.72957675, -0.02216102, -0.56868171,  0.29856803, -1.59303874,\n",
       "        0.2357869 ,  0.24809747, -0.65528083,  0.62270226, -0.63770322])"
      ]
     },
     "execution_count": 11,
     "metadata": {},
     "output_type": "execute_result"
    }
   ],
   "source": [
    "np.random.randn(10)"
   ]
  },
  {
   "cell_type": "code",
   "execution_count": 12,
   "id": "876a9639",
   "metadata": {},
   "outputs": [
    {
     "data": {
      "text/plain": [
       "array([[-0.67013876,  0.08530868,  0.99184873],\n",
       "       [-0.85155198,  0.00868597,  1.4392924 ]])"
      ]
     },
     "execution_count": 12,
     "metadata": {},
     "output_type": "execute_result"
    }
   ],
   "source": [
    "np.random.randn(2,3)"
   ]
  },
  {
   "cell_type": "code",
   "execution_count": 14,
   "id": "f13cc03e",
   "metadata": {},
   "outputs": [
    {
     "data": {
      "text/plain": [
       "array([[-1.87151607, -0.53806957, -2.26987736],\n",
       "       [-0.16956438, -1.53356106, -0.47139608],\n",
       "       [ 0.4815258 ,  1.63313381, -0.57298444]])"
      ]
     },
     "execution_count": 14,
     "metadata": {},
     "output_type": "execute_result"
    }
   ],
   "source": [
    "A = np.random.randn(3,3)\n",
    "A"
   ]
  },
  {
   "cell_type": "code",
   "execution_count": 16,
   "id": "aca529df",
   "metadata": {},
   "outputs": [
    {
     "data": {
      "text/plain": [
       "array([-1.559821  , -0.72484051,  0.51389172])"
      ]
     },
     "execution_count": 16,
     "metadata": {},
     "output_type": "execute_result"
    }
   ],
   "source": [
    "A.mean(axis=1) # row mean"
   ]
  },
  {
   "cell_type": "code",
   "execution_count": 17,
   "id": "6887c14e",
   "metadata": {},
   "outputs": [
    {
     "data": {
      "text/plain": [
       "array([-0.51985155, -0.14616561, -1.10475263])"
      ]
     },
     "execution_count": 17,
     "metadata": {},
     "output_type": "execute_result"
    }
   ],
   "source": [
    "A.mean(axis=0) #Column mean"
   ]
  },
  {
   "cell_type": "code",
   "execution_count": 18,
   "id": "085a7ecf",
   "metadata": {},
   "outputs": [
    {
     "data": {
      "text/plain": [
       "array([[8, 9, 8, 6],\n",
       "       [2, 8, 6, 2],\n",
       "       [8, 8, 9, 2]])"
      ]
     },
     "execution_count": 18,
     "metadata": {},
     "output_type": "execute_result"
    }
   ],
   "source": [
    "# Generating a random Positive int matrix\n",
    "# Here it wil take 2-9\n",
    "np.random.randint(2,10, size=(3,4))"
   ]
  },
  {
   "cell_type": "code",
   "execution_count": 19,
   "id": "2787bcf4",
   "metadata": {},
   "outputs": [
    {
     "data": {
      "text/plain": [
       "array([[8, 7, 7, 9],\n",
       "       [3, 3, 2, 0],\n",
       "       [9, 1, 9, 4]])"
      ]
     },
     "execution_count": 19,
     "metadata": {},
     "output_type": "execute_result"
    }
   ],
   "source": [
    "# Same can be done via choice function\n",
    "# Here 10 menas it will take 0-9\n",
    "np.random.choice(10, size=(3,4))"
   ]
  },
  {
   "cell_type": "code",
   "execution_count": null,
   "id": "d4703685",
   "metadata": {},
   "outputs": [],
   "source": []
  }
 ],
 "metadata": {
  "kernelspec": {
   "display_name": "Python 3 (ipykernel)",
   "language": "python",
   "name": "python3"
  },
  "language_info": {
   "codemirror_mode": {
    "name": "ipython",
    "version": 3
   },
   "file_extension": ".py",
   "mimetype": "text/x-python",
   "name": "python",
   "nbconvert_exporter": "python",
   "pygments_lexer": "ipython3",
   "version": "3.9.6"
  }
 },
 "nbformat": 4,
 "nbformat_minor": 5
}
